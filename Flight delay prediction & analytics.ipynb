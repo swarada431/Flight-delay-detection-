{
 "cells": [
  {
   "cell_type": "markdown",
   "id": "c6910028",
   "metadata": {},
   "source": [
    "Loading the CSV file and creating a target"
   ]
  },
  {
   "cell_type": "code",
   "execution_count": 18,
   "id": "09cce119",
   "metadata": {},
   "outputs": [
    {
     "name": "stderr",
     "output_type": "stream",
     "text": [
      "C:\\Users\\swara_mmys6c\\AppData\\Local\\Temp\\ipykernel_6296\\1834188584.py:5: DtypeWarning: Columns (24) have mixed types. Specify dtype option on import or set low_memory=False.\n",
      "  df = pd.read_csv(\"flight_data_2024.csv\")\n"
     ]
    },
    {
     "name": "stdout",
     "output_type": "stream",
     "text": [
      "✅ flights2024 table created successfully\n"
     ]
    }
   ],
   "source": [
    "import pandas as pd\n",
    "from sqlalchemy import create_engine\n",
    "\n",
    "# Load dataset\n",
    "df = pd.read_csv(\"flight_data_2024.csv\")\n",
    "\n",
    "# ✅ Use lowercase column name 'arr_delay'\n",
    "df[\"Delayed\"] = (df[\"arr_delay\"] > 15).astype(int)\n",
    "\n",
    "# Keep relevant columns\n",
    "df = df[[\n",
    "    \"year\", \"month\", \"day_of_week\", \"fl_date\",\n",
    "    \"op_unique_carrier\", \"op_carrier_fl_num\",\n",
    "    \"origin\", \"dest\", \"dep_delay\", \"arr_delay\",\n",
    "    \"distance\", \"cancelled\", \"diverted\", \"Delayed\"\n",
    "]]\n",
    "\n",
    "# Save to DB\n",
    "engine = create_engine(\"sqlite:///flights2024.db\")\n",
    "df.to_sql(\"flights2024\", con=engine, if_exists=\"replace\", index=False)\n",
    "\n",
    "print(\"✅ flights2024 table created successfully\")\n",
    "\n"
   ]
  },
  {
   "cell_type": "markdown",
   "id": "3dacd450",
   "metadata": {},
   "source": [
    "Quering and preprocessing"
   ]
  },
  {
   "cell_type": "code",
   "execution_count": 19,
   "id": "21454fb1",
   "metadata": {},
   "outputs": [],
   "source": [
    "from sklearn.preprocessing import LabelEncoder, StandardScaler\n",
    "from sklearn.model_selection import train_test_split\n",
    "\n",
    "query = \"\"\"\n",
    "SELECT year, month, day_of_week, dep_delay, distance,\n",
    "       op_unique_carrier, origin, dest, cancelled, diverted, Delayed\n",
    "FROM flights2024\n",
    "WHERE cancelled = 0 AND diverted = 0\n",
    "\"\"\"\n",
    "df = pd.read_sql(query, engine)\n",
    "\n",
    "# Encode categorical columns\n",
    "for col in [\"op_unique_carrier\", \"origin\", \"dest\"]:\n",
    "    df[col] = LabelEncoder().fit_transform(df[col])\n",
    "\n",
    "X = df.drop(\"Delayed\", axis=1)\n",
    "y = df[\"Delayed\"]\n",
    "\n",
    "# Train/test split\n",
    "X_train, X_test, y_train, y_test = train_test_split(\n",
    "    X, y, test_size=0.2, stratify=y, random_state=42\n",
    ")\n",
    "\n",
    "# Scale numeric features\n",
    "scaler = StandardScaler()\n",
    "X_train = scaler.fit_transform(X_train)\n",
    "X_test = scaler.transform(X_test)\n"
   ]
  },
  {
   "cell_type": "markdown",
   "id": "eb0f44a0",
   "metadata": {},
   "source": [
    "Training the model"
   ]
  },
  {
   "cell_type": "code",
   "execution_count": 20,
   "id": "dde5e9aa",
   "metadata": {},
   "outputs": [
    {
     "name": "stdout",
     "output_type": "stream",
     "text": [
      "✅ Accuracy: 0.9326932050013854\n",
      "              precision    recall  f1-score   support\n",
      "\n",
      "           0       0.94      0.98      0.96   1112376\n",
      "           1       0.92      0.73      0.81    280678\n",
      "\n",
      "    accuracy                           0.93   1393054\n",
      "   macro avg       0.93      0.86      0.89   1393054\n",
      "weighted avg       0.93      0.93      0.93   1393054\n",
      "\n"
     ]
    }
   ],
   "source": [
    "from xgboost import XGBClassifier\n",
    "from sklearn.metrics import accuracy_score, classification_report\n",
    "\n",
    "model = XGBClassifier(\n",
    "    n_estimators=300,\n",
    "    max_depth=6,\n",
    "    learning_rate=0.05,\n",
    "    random_state=42,\n",
    "    n_jobs=-1\n",
    ")\n",
    "model.fit(X_train, y_train)\n",
    "\n",
    "y_pred = model.predict(X_test)\n",
    "\n",
    "print(\"✅ Accuracy:\", accuracy_score(y_test, y_pred))\n",
    "print(classification_report(y_test, y_pred))\n"
   ]
  },
  {
   "cell_type": "markdown",
   "id": "82bcd9c3",
   "metadata": {},
   "source": [
    "Save Predictions"
   ]
  },
  {
   "cell_type": "code",
   "execution_count": 21,
   "id": "8c0f5c6d",
   "metadata": {},
   "outputs": [
    {
     "name": "stdout",
     "output_type": "stream",
     "text": [
      "✅ Predictions saved to flight_preds_2024 table\n"
     ]
    }
   ],
   "source": [
    "# Predict on full dataset\n",
    "X_full = scaler.transform(X)\n",
    "df[\"Predicted\"] = model.predict(X_full)\n",
    "\n",
    "df.to_sql(\"flight_preds_2024\", con=engine, if_exists=\"replace\", index=False)\n",
    "\n",
    "print(\"✅ Predictions saved to flight_preds_2024 table\")"
   ]
  }
 ],
 "metadata": {
  "kernelspec": {
   "display_name": "Python 3",
   "language": "python",
   "name": "python3"
  },
  "language_info": {
   "codemirror_mode": {
    "name": "ipython",
    "version": 3
   },
   "file_extension": ".py",
   "mimetype": "text/x-python",
   "name": "python",
   "nbconvert_exporter": "python",
   "pygments_lexer": "ipython3",
   "version": "3.13.5"
  }
 },
 "nbformat": 4,
 "nbformat_minor": 5
}
